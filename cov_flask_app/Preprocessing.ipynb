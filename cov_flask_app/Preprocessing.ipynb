{
 "cells": [
  {
   "cell_type": "markdown",
   "id": "40d5dcd6",
   "metadata": {},
   "source": [
    "# Covid-19 Prediction - Preprocessing"
   ]
  },
  {
   "cell_type": "markdown",
   "id": "b201bacd",
   "metadata": {},
   "source": [
    "## Import necessary modules"
   ]
  },
  {
   "cell_type": "code",
   "execution_count": 1,
   "id": "38a1bf3d",
   "metadata": {},
   "outputs": [],
   "source": [
    "import warnings\n",
    "warnings.filterwarnings(\"ignore\")\n",
    "\n",
    "import numpy as np\n",
    "import pandas as pd\n",
    "pd.set_option('display.float_format', lambda x: '%.2f' % x)\n",
    "pd.options.display.max_columns = 100\n",
    "pd.options.display.max_rows = 100\n",
    "\n",
    "import seaborn as sns\n",
    "import matplotlib.pyplot as plt\n",
    "%matplotlib inline\n",
    "\n",
    "import googletrans\n",
    "from googletrans import Translator\n",
    "\n",
    "from sklearn.model_selection import train_test_split"
   ]
  },
  {
   "cell_type": "markdown",
   "id": "dacab359",
   "metadata": {},
   "source": [
    "## Load Data"
   ]
  },
  {
   "cell_type": "code",
   "execution_count": 2,
   "id": "9ab200af",
   "metadata": {},
   "outputs": [],
   "source": [
    "df = pd.read_csv('covid_19_full.csv')"
   ]
  },
  {
   "cell_type": "markdown",
   "id": "81424234",
   "metadata": {},
   "source": [
    "## Explore Data"
   ]
  },
  {
   "cell_type": "code",
   "execution_count": 3,
   "id": "f3399444",
   "metadata": {},
   "outputs": [
    {
     "data": {
      "text/html": [
       "<div>\n",
       "<style scoped>\n",
       "    .dataframe tbody tr th:only-of-type {\n",
       "        vertical-align: middle;\n",
       "    }\n",
       "\n",
       "    .dataframe tbody tr th {\n",
       "        vertical-align: top;\n",
       "    }\n",
       "\n",
       "    .dataframe thead th {\n",
       "        text-align: right;\n",
       "    }\n",
       "</style>\n",
       "<table border=\"1\" class=\"dataframe\">\n",
       "  <thead>\n",
       "    <tr style=\"text-align: right;\">\n",
       "      <th></th>\n",
       "      <th>test_date</th>\n",
       "      <th>cough</th>\n",
       "      <th>fever</th>\n",
       "      <th>sore_throat</th>\n",
       "      <th>shortness_of_breath</th>\n",
       "      <th>head_ache</th>\n",
       "      <th>corona_result</th>\n",
       "      <th>age_60_and_above</th>\n",
       "      <th>gender</th>\n",
       "      <th>test_indication</th>\n",
       "    </tr>\n",
       "  </thead>\n",
       "  <tbody>\n",
       "    <tr>\n",
       "      <th>0</th>\n",
       "      <td>2022-03-03</td>\n",
       "      <td>0</td>\n",
       "      <td>0</td>\n",
       "      <td>0</td>\n",
       "      <td>0</td>\n",
       "      <td>0</td>\n",
       "      <td>חיובי</td>\n",
       "      <td>No</td>\n",
       "      <td>נקבה</td>\n",
       "      <td>Other</td>\n",
       "    </tr>\n",
       "    <tr>\n",
       "      <th>1</th>\n",
       "      <td>2022-03-03</td>\n",
       "      <td>0</td>\n",
       "      <td>0</td>\n",
       "      <td>0</td>\n",
       "      <td>0</td>\n",
       "      <td>0</td>\n",
       "      <td>חיובי</td>\n",
       "      <td>No</td>\n",
       "      <td>זכר</td>\n",
       "      <td>Other</td>\n",
       "    </tr>\n",
       "    <tr>\n",
       "      <th>2</th>\n",
       "      <td>2022-03-03</td>\n",
       "      <td>0</td>\n",
       "      <td>0</td>\n",
       "      <td>0</td>\n",
       "      <td>0</td>\n",
       "      <td>0</td>\n",
       "      <td>חיובי</td>\n",
       "      <td>No</td>\n",
       "      <td>זכר</td>\n",
       "      <td>Other</td>\n",
       "    </tr>\n",
       "    <tr>\n",
       "      <th>3</th>\n",
       "      <td>2022-03-03</td>\n",
       "      <td>0</td>\n",
       "      <td>0</td>\n",
       "      <td>0</td>\n",
       "      <td>0</td>\n",
       "      <td>0</td>\n",
       "      <td>חיובי</td>\n",
       "      <td>No</td>\n",
       "      <td>נקבה</td>\n",
       "      <td>Other</td>\n",
       "    </tr>\n",
       "    <tr>\n",
       "      <th>4</th>\n",
       "      <td>2022-03-03</td>\n",
       "      <td>0</td>\n",
       "      <td>0</td>\n",
       "      <td>0</td>\n",
       "      <td>0</td>\n",
       "      <td>0</td>\n",
       "      <td>חיובי</td>\n",
       "      <td>No</td>\n",
       "      <td>נקבה</td>\n",
       "      <td>Abroad</td>\n",
       "    </tr>\n",
       "  </tbody>\n",
       "</table>\n",
       "</div>"
      ],
      "text/plain": [
       "    test_date  cough  fever  sore_throat  shortness_of_breath  head_ache  \\\n",
       "0  2022-03-03      0      0            0                    0          0   \n",
       "1  2022-03-03      0      0            0                    0          0   \n",
       "2  2022-03-03      0      0            0                    0          0   \n",
       "3  2022-03-03      0      0            0                    0          0   \n",
       "4  2022-03-03      0      0            0                    0          0   \n",
       "\n",
       "  corona_result age_60_and_above gender test_indication  \n",
       "0         חיובי               No   נקבה           Other  \n",
       "1         חיובי               No    זכר           Other  \n",
       "2         חיובי               No    זכר           Other  \n",
       "3         חיובי               No   נקבה           Other  \n",
       "4         חיובי               No   נקבה          Abroad  "
      ]
     },
     "execution_count": 3,
     "metadata": {},
     "output_type": "execute_result"
    }
   ],
   "source": [
    "df.head()"
   ]
  },
  {
   "cell_type": "code",
   "execution_count": 4,
   "id": "fbed74bb",
   "metadata": {},
   "outputs": [
    {
     "name": "stdout",
     "output_type": "stream",
     "text": [
      "Total no. of samples = 9147169\n",
      "Total no. of features = 10\n"
     ]
    }
   ],
   "source": [
    "df.shape\n",
    "print('Total no. of samples =', df.shape[0])\n",
    "print('Total no. of features =', df.shape[1])"
   ]
  },
  {
   "cell_type": "code",
   "execution_count": 5,
   "id": "5fdbb8d5",
   "metadata": {},
   "outputs": [
    {
     "name": "stdout",
     "output_type": "stream",
     "text": [
      "Total no. of elements = 91471690\n"
     ]
    }
   ],
   "source": [
    "print('Total no. of elements =', df.size)"
   ]
  },
  {
   "cell_type": "code",
   "execution_count": 6,
   "id": "a1759348",
   "metadata": {},
   "outputs": [
    {
     "name": "stdout",
     "output_type": "stream",
     "text": [
      "<class 'pandas.core.frame.DataFrame'>\n",
      "RangeIndex: 9147169 entries, 0 to 9147168\n",
      "Data columns (total 10 columns):\n",
      " #   Column               Dtype \n",
      "---  ------               ----- \n",
      " 0   test_date            object\n",
      " 1   cough                int64 \n",
      " 2   fever                int64 \n",
      " 3   sore_throat          int64 \n",
      " 4   shortness_of_breath  int64 \n",
      " 5   head_ache            int64 \n",
      " 6   corona_result        object\n",
      " 7   age_60_and_above     object\n",
      " 8   gender               object\n",
      " 9   test_indication      object\n",
      "dtypes: int64(5), object(5)\n",
      "memory usage: 697.9+ MB\n"
     ]
    }
   ],
   "source": [
    "df.info()"
   ]
  },
  {
   "cell_type": "code",
   "execution_count": 7,
   "id": "14fa3a42",
   "metadata": {},
   "outputs": [
    {
     "data": {
      "text/html": [
       "<div>\n",
       "<style scoped>\n",
       "    .dataframe tbody tr th:only-of-type {\n",
       "        vertical-align: middle;\n",
       "    }\n",
       "\n",
       "    .dataframe tbody tr th {\n",
       "        vertical-align: top;\n",
       "    }\n",
       "\n",
       "    .dataframe thead th {\n",
       "        text-align: right;\n",
       "    }\n",
       "</style>\n",
       "<table border=\"1\" class=\"dataframe\">\n",
       "  <thead>\n",
       "    <tr style=\"text-align: right;\">\n",
       "      <th></th>\n",
       "      <th>test_date</th>\n",
       "      <th>cough</th>\n",
       "      <th>fever</th>\n",
       "      <th>sore_throat</th>\n",
       "      <th>shortness_of_breath</th>\n",
       "      <th>head_ache</th>\n",
       "      <th>corona_result</th>\n",
       "      <th>age_60_and_above</th>\n",
       "      <th>gender</th>\n",
       "      <th>test_indication</th>\n",
       "    </tr>\n",
       "  </thead>\n",
       "  <tbody>\n",
       "    <tr>\n",
       "      <th>count</th>\n",
       "      <td>9147169</td>\n",
       "      <td>9147169.00</td>\n",
       "      <td>9147169.00</td>\n",
       "      <td>9147169.00</td>\n",
       "      <td>9147169.00</td>\n",
       "      <td>9147169.00</td>\n",
       "      <td>9147169</td>\n",
       "      <td>7097830</td>\n",
       "      <td>8481538</td>\n",
       "      <td>9147169</td>\n",
       "    </tr>\n",
       "    <tr>\n",
       "      <th>unique</th>\n",
       "      <td>723</td>\n",
       "      <td>NaN</td>\n",
       "      <td>NaN</td>\n",
       "      <td>NaN</td>\n",
       "      <td>NaN</td>\n",
       "      <td>NaN</td>\n",
       "      <td>3</td>\n",
       "      <td>2</td>\n",
       "      <td>2</td>\n",
       "      <td>3</td>\n",
       "    </tr>\n",
       "    <tr>\n",
       "      <th>top</th>\n",
       "      <td>2022-01-16</td>\n",
       "      <td>NaN</td>\n",
       "      <td>NaN</td>\n",
       "      <td>NaN</td>\n",
       "      <td>NaN</td>\n",
       "      <td>NaN</td>\n",
       "      <td>שלילי</td>\n",
       "      <td>No</td>\n",
       "      <td>נקבה</td>\n",
       "      <td>Other</td>\n",
       "    </tr>\n",
       "    <tr>\n",
       "      <th>freq</th>\n",
       "      <td>41014</td>\n",
       "      <td>NaN</td>\n",
       "      <td>NaN</td>\n",
       "      <td>NaN</td>\n",
       "      <td>NaN</td>\n",
       "      <td>NaN</td>\n",
       "      <td>8021753</td>\n",
       "      <td>6153383</td>\n",
       "      <td>4396640</td>\n",
       "      <td>8391862</td>\n",
       "    </tr>\n",
       "    <tr>\n",
       "      <th>mean</th>\n",
       "      <td>NaN</td>\n",
       "      <td>0.05</td>\n",
       "      <td>0.04</td>\n",
       "      <td>0.02</td>\n",
       "      <td>0.00</td>\n",
       "      <td>0.04</td>\n",
       "      <td>NaN</td>\n",
       "      <td>NaN</td>\n",
       "      <td>NaN</td>\n",
       "      <td>NaN</td>\n",
       "    </tr>\n",
       "    <tr>\n",
       "      <th>std</th>\n",
       "      <td>NaN</td>\n",
       "      <td>0.21</td>\n",
       "      <td>0.19</td>\n",
       "      <td>0.14</td>\n",
       "      <td>0.06</td>\n",
       "      <td>0.19</td>\n",
       "      <td>NaN</td>\n",
       "      <td>NaN</td>\n",
       "      <td>NaN</td>\n",
       "      <td>NaN</td>\n",
       "    </tr>\n",
       "    <tr>\n",
       "      <th>min</th>\n",
       "      <td>NaN</td>\n",
       "      <td>0.00</td>\n",
       "      <td>0.00</td>\n",
       "      <td>0.00</td>\n",
       "      <td>0.00</td>\n",
       "      <td>0.00</td>\n",
       "      <td>NaN</td>\n",
       "      <td>NaN</td>\n",
       "      <td>NaN</td>\n",
       "      <td>NaN</td>\n",
       "    </tr>\n",
       "    <tr>\n",
       "      <th>25%</th>\n",
       "      <td>NaN</td>\n",
       "      <td>0.00</td>\n",
       "      <td>0.00</td>\n",
       "      <td>0.00</td>\n",
       "      <td>0.00</td>\n",
       "      <td>0.00</td>\n",
       "      <td>NaN</td>\n",
       "      <td>NaN</td>\n",
       "      <td>NaN</td>\n",
       "      <td>NaN</td>\n",
       "    </tr>\n",
       "    <tr>\n",
       "      <th>50%</th>\n",
       "      <td>NaN</td>\n",
       "      <td>0.00</td>\n",
       "      <td>0.00</td>\n",
       "      <td>0.00</td>\n",
       "      <td>0.00</td>\n",
       "      <td>0.00</td>\n",
       "      <td>NaN</td>\n",
       "      <td>NaN</td>\n",
       "      <td>NaN</td>\n",
       "      <td>NaN</td>\n",
       "    </tr>\n",
       "    <tr>\n",
       "      <th>75%</th>\n",
       "      <td>NaN</td>\n",
       "      <td>0.00</td>\n",
       "      <td>0.00</td>\n",
       "      <td>0.00</td>\n",
       "      <td>0.00</td>\n",
       "      <td>0.00</td>\n",
       "      <td>NaN</td>\n",
       "      <td>NaN</td>\n",
       "      <td>NaN</td>\n",
       "      <td>NaN</td>\n",
       "    </tr>\n",
       "    <tr>\n",
       "      <th>max</th>\n",
       "      <td>NaN</td>\n",
       "      <td>1.00</td>\n",
       "      <td>1.00</td>\n",
       "      <td>1.00</td>\n",
       "      <td>1.00</td>\n",
       "      <td>1.00</td>\n",
       "      <td>NaN</td>\n",
       "      <td>NaN</td>\n",
       "      <td>NaN</td>\n",
       "      <td>NaN</td>\n",
       "    </tr>\n",
       "  </tbody>\n",
       "</table>\n",
       "</div>"
      ],
      "text/plain": [
       "         test_date      cough      fever  sore_throat  shortness_of_breath  \\\n",
       "count      9147169 9147169.00 9147169.00   9147169.00           9147169.00   \n",
       "unique         723        NaN        NaN          NaN                  NaN   \n",
       "top     2022-01-16        NaN        NaN          NaN                  NaN   \n",
       "freq         41014        NaN        NaN          NaN                  NaN   \n",
       "mean           NaN       0.05       0.04         0.02                 0.00   \n",
       "std            NaN       0.21       0.19         0.14                 0.06   \n",
       "min            NaN       0.00       0.00         0.00                 0.00   \n",
       "25%            NaN       0.00       0.00         0.00                 0.00   \n",
       "50%            NaN       0.00       0.00         0.00                 0.00   \n",
       "75%            NaN       0.00       0.00         0.00                 0.00   \n",
       "max            NaN       1.00       1.00         1.00                 1.00   \n",
       "\n",
       "        head_ache corona_result age_60_and_above   gender test_indication  \n",
       "count  9147169.00       9147169          7097830  8481538         9147169  \n",
       "unique        NaN             3                2        2               3  \n",
       "top           NaN         שלילי               No     נקבה           Other  \n",
       "freq          NaN       8021753          6153383  4396640         8391862  \n",
       "mean         0.04           NaN              NaN      NaN             NaN  \n",
       "std          0.19           NaN              NaN      NaN             NaN  \n",
       "min          0.00           NaN              NaN      NaN             NaN  \n",
       "25%          0.00           NaN              NaN      NaN             NaN  \n",
       "50%          0.00           NaN              NaN      NaN             NaN  \n",
       "75%          0.00           NaN              NaN      NaN             NaN  \n",
       "max          1.00           NaN              NaN      NaN             NaN  "
      ]
     },
     "execution_count": 7,
     "metadata": {},
     "output_type": "execute_result"
    }
   ],
   "source": [
    "df.describe(include='all')"
   ]
  },
  {
   "cell_type": "code",
   "execution_count": 8,
   "id": "dd8be4c8",
   "metadata": {},
   "outputs": [
    {
     "data": {
      "text/plain": [
       "שלילי    8021753\n",
       "חיובי     928930\n",
       "אחר       196486\n",
       "Name: corona_result, dtype: int64"
      ]
     },
     "execution_count": 8,
     "metadata": {},
     "output_type": "execute_result"
    }
   ],
   "source": [
    "df.corona_result.value_counts()"
   ]
  },
  {
   "cell_type": "markdown",
   "id": "cdfc6b9d",
   "metadata": {},
   "source": [
    "### Visualizing Before Preprocessing"
   ]
  },
  {
   "cell_type": "code",
   "execution_count": 9,
   "id": "c805ca9f",
   "metadata": {},
   "outputs": [
    {
     "data": {
      "image/png": "[encoded data removed]",
      "text/plain": [
       "<Figure size 360x360 with 1 Axes>"
      ]
     },
     "metadata": {
      "needs_background": "light"
     },
     "output_type": "display_data"
    }
   ],
   "source": [
    "plt.figure(figsize=(5,5))\n",
    "plt.title(\"Before Preprocessing\")\n",
    "p1 = sns.countplot(df['corona_result'])\n",
    "plt.show()"
   ]
  },
  {
   "cell_type": "markdown",
   "id": "8c943247",
   "metadata": {},
   "source": [
    "## Pre-processing & EDA"
   ]
  },
  {
   "cell_type": "code",
   "execution_count": 10,
   "id": "77cbe073",
   "metadata": {},
   "outputs": [
    {
     "data": {
      "text/plain": [
       "test_date                    0\n",
       "cough                        0\n",
       "fever                        0\n",
       "sore_throat                  0\n",
       "shortness_of_breath          0\n",
       "head_ache                    0\n",
       "corona_result                0\n",
       "age_60_and_above       2049339\n",
       "gender                  665631\n",
       "test_indication              0\n",
       "dtype: int64"
      ]
     },
     "execution_count": 10,
     "metadata": {},
     "output_type": "execute_result"
    }
   ],
   "source": [
    "df.isnull().sum()"
   ]
  },
  {
   "cell_type": "code",
   "execution_count": 11,
   "id": "f097df8a",
   "metadata": {},
   "outputs": [],
   "source": [
    "del df['test_date']"
   ]
  },
  {
   "cell_type": "code",
   "execution_count": 12,
   "id": "3ae1bb9c",
   "metadata": {},
   "outputs": [],
   "source": [
    "df.dropna(axis = 0, how ='any', inplace=True)"
   ]
  },
  {
   "cell_type": "code",
   "execution_count": 13,
   "id": "d34ead00",
   "metadata": {},
   "outputs": [
    {
     "data": {
      "text/plain": [
       "(6939346, 9)"
      ]
     },
     "execution_count": 13,
     "metadata": {},
     "output_type": "execute_result"
    }
   ],
   "source": [
    "df.shape"
   ]
  },
  {
   "cell_type": "code",
   "execution_count": 14,
   "id": "2ab1cefe",
   "metadata": {},
   "outputs": [
    {
     "data": {
      "text/plain": [
       "array([0, 1], dtype=int64)"
      ]
     },
     "execution_count": 14,
     "metadata": {},
     "output_type": "execute_result"
    }
   ],
   "source": [
    "df['cough'].unique()"
   ]
  },
  {
   "cell_type": "code",
   "execution_count": 15,
   "id": "0808c4cc",
   "metadata": {},
   "outputs": [
    {
     "data": {
      "text/plain": [
       "array([0, 1], dtype=int64)"
      ]
     },
     "execution_count": 15,
     "metadata": {},
     "output_type": "execute_result"
    }
   ],
   "source": [
    "df['fever'].unique()"
   ]
  },
  {
   "cell_type": "code",
   "execution_count": 16,
   "id": "83bd9cc6",
   "metadata": {},
   "outputs": [
    {
     "data": {
      "text/plain": [
       "array([0, 1], dtype=int64)"
      ]
     },
     "execution_count": 16,
     "metadata": {},
     "output_type": "execute_result"
    }
   ],
   "source": [
    "df['sore_throat'].unique()"
   ]
  },
  {
   "cell_type": "code",
   "execution_count": 17,
   "id": "e0ac8cfe",
   "metadata": {},
   "outputs": [
    {
     "data": {
      "text/plain": [
       "array([0, 1], dtype=int64)"
      ]
     },
     "execution_count": 17,
     "metadata": {},
     "output_type": "execute_result"
    }
   ],
   "source": [
    "df['shortness_of_breath'].unique()"
   ]
  },
  {
   "cell_type": "code",
   "execution_count": 18,
   "id": "45d5a041",
   "metadata": {},
   "outputs": [
    {
     "data": {
      "text/plain": [
       "array([0, 1], dtype=int64)"
      ]
     },
     "execution_count": 18,
     "metadata": {},
     "output_type": "execute_result"
    }
   ],
   "source": [
    "df['head_ache'].unique()"
   ]
  },
  {
   "cell_type": "code",
   "execution_count": 19,
   "id": "f09bfaec",
   "metadata": {},
   "outputs": [
    {
     "data": {
      "text/plain": [
       "array(['חיובי', 'שלילי', 'אחר'], dtype=object)"
      ]
     },
     "execution_count": 19,
     "metadata": {},
     "output_type": "execute_result"
    }
   ],
   "source": [
    "df['corona_result'].unique()"
   ]
  },
  {
   "cell_type": "code",
   "execution_count": 20,
   "id": "e689a586",
   "metadata": {},
   "outputs": [
    {
     "name": "stdout",
     "output_type": "stream",
     "text": [
      "{'חיובי': 'Positive', 'שלילי': 'Negative', 'אחר': 'Other'}\n"
     ]
    }
   ],
   "source": [
    "translator = Translator()\n",
    "\n",
    "labels = df['corona_result'].unique()\n",
    "list_labels = labels.tolist()\n",
    "list_labels\n",
    "\n",
    "translations = {}\n",
    "for values in list_labels:\n",
    "        translations[values] = translator.translate(values).text\n",
    "    \n",
    "print(translations)"
   ]
  },
  {
   "cell_type": "code",
   "execution_count": 21,
   "id": "b2bfb06d",
   "metadata": {},
   "outputs": [],
   "source": [
    "df.replace(translations, inplace = True)"
   ]
  },
  {
   "cell_type": "code",
   "execution_count": 22,
   "id": "54334c4f",
   "metadata": {},
   "outputs": [
    {
     "data": {
      "text/plain": [
       "(6791352, 9)"
      ]
     },
     "execution_count": 22,
     "metadata": {},
     "output_type": "execute_result"
    }
   ],
   "source": [
    "index_names = df[df[\"corona_result\"] == \"Other\"].index\n",
    "  \n",
    "df.drop(index_names, inplace = True)\n",
    "  \n",
    "df.shape"
   ]
  },
  {
   "cell_type": "code",
   "execution_count": 23,
   "id": "12924082",
   "metadata": {},
   "outputs": [],
   "source": [
    "df.loc[df[\"corona_result\"] == \"Negative\", \"corona_result\"] = 0\n",
    "df.loc[df[\"corona_result\"] == \"Positive\", \"corona_result\"] = 1"
   ]
  },
  {
   "cell_type": "code",
   "execution_count": 24,
   "id": "38d7bd2e",
   "metadata": {},
   "outputs": [
    {
     "data": {
      "text/plain": [
       "array(['No', 'Yes'], dtype=object)"
      ]
     },
     "execution_count": 24,
     "metadata": {},
     "output_type": "execute_result"
    }
   ],
   "source": [
    "df['age_60_and_above'].unique()"
   ]
  },
  {
   "cell_type": "code",
   "execution_count": 25,
   "id": "fd77a155",
   "metadata": {},
   "outputs": [],
   "source": [
    "df.loc[df[\"age_60_and_above\"] == \"No\", \"age_60_and_above\"] = 0\n",
    "df.loc[df[\"age_60_and_above\"] == \"Yes\", \"age_60_and_above\"] = 1"
   ]
  },
  {
   "cell_type": "code",
   "execution_count": 26,
   "id": "eac50d2c",
   "metadata": {},
   "outputs": [
    {
     "data": {
      "text/plain": [
       "array(['נקבה', 'זכר'], dtype=object)"
      ]
     },
     "execution_count": 26,
     "metadata": {},
     "output_type": "execute_result"
    }
   ],
   "source": [
    "df['gender'].unique()"
   ]
  },
  {
   "cell_type": "code",
   "execution_count": 27,
   "id": "ef64dd18",
   "metadata": {},
   "outputs": [
    {
     "name": "stdout",
     "output_type": "stream",
     "text": [
      "{'נקבה': 'female', 'זכר': 'male'}\n"
     ]
    }
   ],
   "source": [
    "translator = Translator()\n",
    "\n",
    "labels = df['gender'].unique()\n",
    "list_labels = labels.tolist()\n",
    "list_labels\n",
    "\n",
    "translations = {}\n",
    "for values in list_labels:\n",
    "        translations[values] = translator.translate(values).text\n",
    "    \n",
    "print(translations)"
   ]
  },
  {
   "cell_type": "code",
   "execution_count": 28,
   "id": "40b23562",
   "metadata": {},
   "outputs": [],
   "source": [
    "df.replace(translations, inplace = True)"
   ]
  },
  {
   "cell_type": "code",
   "execution_count": 29,
   "id": "8c91dd40",
   "metadata": {},
   "outputs": [],
   "source": [
    "df.loc[df[\"gender\"] == \"male\", \"gender\"] = 0\n",
    "df.loc[df[\"gender\"] == \"female\", \"gender\"] = 1"
   ]
  },
  {
   "cell_type": "code",
   "execution_count": 30,
   "id": "55f0f073",
   "metadata": {},
   "outputs": [
    {
     "data": {
      "text/plain": [
       "array(['Other', 'Abroad', 'Contact with confirmed'], dtype=object)"
      ]
     },
     "execution_count": 30,
     "metadata": {},
     "output_type": "execute_result"
    }
   ],
   "source": [
    "df['test_indication'].unique()"
   ]
  },
  {
   "cell_type": "code",
   "execution_count": 31,
   "id": "68d63f15",
   "metadata": {},
   "outputs": [],
   "source": [
    "df.rename(columns = {'test_indication':'Contact_with_Confirmed'}, inplace = True)"
   ]
  },
  {
   "cell_type": "code",
   "execution_count": 32,
   "id": "35dd3aa1",
   "metadata": {},
   "outputs": [],
   "source": [
    "df.loc[df[\"Contact_with_Confirmed\"] == \"Contact with confirmed\", \"Contact_with_Confirmed\"] = 1\n",
    "df.loc[df[\"Contact_with_Confirmed\"] == \"Abroad\", \"Contact_with_Confirmed\"] = 0\n",
    "df.loc[df[\"Contact_with_Confirmed\"] == \"Other\", \"Contact_with_Confirmed\"] = 0"
   ]
  },
  {
   "cell_type": "code",
   "execution_count": 33,
   "id": "b7f2cd3d",
   "metadata": {},
   "outputs": [
    {
     "data": {
      "text/html": [
       "<div>\n",
       "<style scoped>\n",
       "    .dataframe tbody tr th:only-of-type {\n",
       "        vertical-align: middle;\n",
       "    }\n",
       "\n",
       "    .dataframe tbody tr th {\n",
       "        vertical-align: top;\n",
       "    }\n",
       "\n",
       "    .dataframe thead th {\n",
       "        text-align: right;\n",
       "    }\n",
       "</style>\n",
       "<table border=\"1\" class=\"dataframe\">\n",
       "  <thead>\n",
       "    <tr style=\"text-align: right;\">\n",
       "      <th></th>\n",
       "      <th>cough</th>\n",
       "      <th>fever</th>\n",
       "      <th>sore_throat</th>\n",
       "      <th>shortness_of_breath</th>\n",
       "      <th>head_ache</th>\n",
       "      <th>corona_result</th>\n",
       "      <th>age_60_and_above</th>\n",
       "      <th>gender</th>\n",
       "      <th>Contact_with_Confirmed</th>\n",
       "    </tr>\n",
       "  </thead>\n",
       "  <tbody>\n",
       "    <tr>\n",
       "      <th>0</th>\n",
       "      <td>0</td>\n",
       "      <td>0</td>\n",
       "      <td>0</td>\n",
       "      <td>0</td>\n",
       "      <td>0</td>\n",
       "      <td>1</td>\n",
       "      <td>0</td>\n",
       "      <td>1</td>\n",
       "      <td>0</td>\n",
       "    </tr>\n",
       "    <tr>\n",
       "      <th>1</th>\n",
       "      <td>0</td>\n",
       "      <td>0</td>\n",
       "      <td>0</td>\n",
       "      <td>0</td>\n",
       "      <td>0</td>\n",
       "      <td>1</td>\n",
       "      <td>0</td>\n",
       "      <td>0</td>\n",
       "      <td>0</td>\n",
       "    </tr>\n",
       "    <tr>\n",
       "      <th>2</th>\n",
       "      <td>0</td>\n",
       "      <td>0</td>\n",
       "      <td>0</td>\n",
       "      <td>0</td>\n",
       "      <td>0</td>\n",
       "      <td>1</td>\n",
       "      <td>0</td>\n",
       "      <td>0</td>\n",
       "      <td>0</td>\n",
       "    </tr>\n",
       "    <tr>\n",
       "      <th>3</th>\n",
       "      <td>0</td>\n",
       "      <td>0</td>\n",
       "      <td>0</td>\n",
       "      <td>0</td>\n",
       "      <td>0</td>\n",
       "      <td>1</td>\n",
       "      <td>0</td>\n",
       "      <td>1</td>\n",
       "      <td>0</td>\n",
       "    </tr>\n",
       "    <tr>\n",
       "      <th>4</th>\n",
       "      <td>0</td>\n",
       "      <td>0</td>\n",
       "      <td>0</td>\n",
       "      <td>0</td>\n",
       "      <td>0</td>\n",
       "      <td>1</td>\n",
       "      <td>0</td>\n",
       "      <td>1</td>\n",
       "      <td>0</td>\n",
       "    </tr>\n",
       "  </tbody>\n",
       "</table>\n",
       "</div>"
      ],
      "text/plain": [
       "   cough  fever  sore_throat  shortness_of_breath  head_ache  corona_result  \\\n",
       "0      0      0            0                    0          0              1   \n",
       "1      0      0            0                    0          0              1   \n",
       "2      0      0            0                    0          0              1   \n",
       "3      0      0            0                    0          0              1   \n",
       "4      0      0            0                    0          0              1   \n",
       "\n",
       "   age_60_and_above gender Contact_with_Confirmed  \n",
       "0                 0      1                      0  \n",
       "1                 0      0                      0  \n",
       "2                 0      0                      0  \n",
       "3                 0      1                      0  \n",
       "4                 0      1                      0  "
      ]
     },
     "execution_count": 33,
     "metadata": {},
     "output_type": "execute_result"
    }
   ],
   "source": [
    "df.head()"
   ]
  },
  {
   "cell_type": "markdown",
   "id": "785e62db",
   "metadata": {},
   "source": [
    "### Visualizing After Preprocessing"
   ]
  },
  {
   "cell_type": "code",
   "execution_count": 34,
   "id": "9b826e31",
   "metadata": {},
   "outputs": [
    {
     "data": {
      "image/png": "[encoded data removed]",
      "text/plain": [
       "<Figure size 360x360 with 1 Axes>"
      ]
     },
     "metadata": {
      "needs_background": "light"
     },
     "output_type": "display_data"
    }
   ],
   "source": [
    "plt.figure(figsize=(5,5))\n",
    "plt.title(\"After Preprocessing\")\n",
    "p1 = sns.countplot(df['corona_result'])\n",
    "plt.show()"
   ]
  },
  {
   "cell_type": "markdown",
   "id": "f43db15d",
   "metadata": {},
   "source": [
    "### Explore data after Preprocessing"
   ]
  },
  {
   "cell_type": "code",
   "execution_count": 35,
   "id": "98bc63cd",
   "metadata": {},
   "outputs": [
    {
     "name": "stdout",
     "output_type": "stream",
     "text": [
      "Total no. of samples after preprocessing = 6791352\n",
      "Total no. of features after preprocessing = 9\n"
     ]
    }
   ],
   "source": [
    "df.shape\n",
    "print('Total no. of samples after preprocessing =', df.shape[0])\n",
    "print('Total no. of features after preprocessing =', df.shape[1])"
   ]
  },
  {
   "cell_type": "code",
   "execution_count": 36,
   "id": "23ab734d",
   "metadata": {},
   "outputs": [
    {
     "name": "stdout",
     "output_type": "stream",
     "text": [
      "Total no. of elements after preprocessing = 61122168\n"
     ]
    }
   ],
   "source": [
    "print('Total no. of elements after preprocessing =', df.size)"
   ]
  },
  {
   "cell_type": "code",
   "execution_count": 37,
   "id": "4f3b326b",
   "metadata": {},
   "outputs": [
    {
     "name": "stdout",
     "output_type": "stream",
     "text": [
      "<class 'pandas.core.frame.DataFrame'>\n",
      "Int64Index: 6791352 entries, 0 to 9136224\n",
      "Data columns (total 9 columns):\n",
      " #   Column                  Dtype \n",
      "---  ------                  ----- \n",
      " 0   cough                   int64 \n",
      " 1   fever                   int64 \n",
      " 2   sore_throat             int64 \n",
      " 3   shortness_of_breath     int64 \n",
      " 4   head_ache               int64 \n",
      " 5   corona_result           int64 \n",
      " 6   age_60_and_above        int64 \n",
      " 7   gender                  object\n",
      " 8   Contact_with_Confirmed  object\n",
      "dtypes: int64(7), object(2)\n",
      "memory usage: 518.1+ MB\n"
     ]
    }
   ],
   "source": [
    "df.info()"
   ]
  },
  {
   "cell_type": "markdown",
   "id": "fd96e677",
   "metadata": {},
   "source": [
    "### Sampling the dataset"
   ]
  },
  {
   "cell_type": "code",
   "execution_count": 38,
   "id": "952675ea",
   "metadata": {},
   "outputs": [
    {
     "data": {
      "text/plain": [
       "(67913, 6723439)"
      ]
     },
     "execution_count": 38,
     "metadata": {},
     "output_type": "execute_result"
    }
   ],
   "source": [
    "X = df.drop([\"corona_result\"], axis=1)\n",
    "y = df[\"corona_result\"]\n",
    "\n",
    "X_train, X_test, y_train, y_test = train_test_split (X, y, \n",
    "                                                     test_size=0.99, \n",
    "                                                     random_state=42)\n",
    "\n",
    "len(X_train), len(X_test)"
   ]
  },
  {
   "cell_type": "code",
   "execution_count": 39,
   "id": "2682f76d",
   "metadata": {},
   "outputs": [],
   "source": [
    "df_new = pd.concat([X_train, y_train], axis=1)"
   ]
  },
  {
   "cell_type": "code",
   "execution_count": 40,
   "id": "4091513d",
   "metadata": {},
   "outputs": [
    {
     "data": {
      "text/plain": [
       "(67913, 9)"
      ]
     },
     "execution_count": 40,
     "metadata": {},
     "output_type": "execute_result"
    }
   ],
   "source": [
    "df_new.shape"
   ]
  },
  {
   "cell_type": "code",
   "execution_count": 41,
   "id": "f23f97b3",
   "metadata": {},
   "outputs": [
    {
     "data": {
      "text/plain": [
       "(679, 67234)"
      ]
     },
     "execution_count": 41,
     "metadata": {},
     "output_type": "execute_result"
    }
   ],
   "source": [
    "X = df_new.drop([\"corona_result\"], axis=1)\n",
    "y = df_new[\"corona_result\"]\n",
    "\n",
    "X_train, X_test, y_train, y_test = train_test_split (X, y, \n",
    "                                                     test_size=0.99, \n",
    "                                                     random_state=42)\n",
    "\n",
    "len(X_train), len(X_test)"
   ]
  },
  {
   "cell_type": "code",
   "execution_count": 42,
   "id": "64bafe58",
   "metadata": {},
   "outputs": [],
   "source": [
    "new_df_new = pd.concat([X_train, y_train], axis=1)"
   ]
  },
  {
   "cell_type": "code",
   "execution_count": 43,
   "id": "b00dec75",
   "metadata": {},
   "outputs": [
    {
     "data": {
      "text/plain": [
       "(679, 9)"
      ]
     },
     "execution_count": 43,
     "metadata": {},
     "output_type": "execute_result"
    }
   ],
   "source": [
    "new_df_new.shape"
   ]
  },
  {
   "cell_type": "code",
   "execution_count": 44,
   "id": "18b45019",
   "metadata": {},
   "outputs": [],
   "source": [
    "new_df_new.to_csv(r\"C:\\Users\\kiruba-haran\\Desktop\\covid\\covid_old.csv\", \n",
    "                  header=True, index=False)"
   ]
  }
 ],
 "metadata": {
  "kernelspec": {
   "display_name": "Python 3 (ipykernel)",
   "language": "python",
   "name": "python3"
  },
  "language_info": {
   "codemirror_mode": {
    "name": "ipython",
    "version": 3
   },
   "file_extension": ".py",
   "mimetype": "text/x-python",
   "name": "python",
   "nbconvert_exporter": "python",
   "pygments_lexer": "ipython3",
   "version": "3.9.7"
  }
 },
 "nbformat": 4,
 "nbformat_minor": 5
}
